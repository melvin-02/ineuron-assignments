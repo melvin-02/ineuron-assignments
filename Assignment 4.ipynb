{
 "cells": [
  {
   "cell_type": "code",
   "execution_count": 8,
   "metadata": {},
   "outputs": [
    {
     "name": "stdout",
     "output_type": "stream",
     "text": [
      "Enter length of side a: 3\n",
      "Enter length of side b: 4\n",
      "Enter length of side c: 6\n"
     ]
    },
    {
     "data": {
      "text/plain": [
       "5.332682251925386"
      ]
     },
     "execution_count": 8,
     "metadata": {},
     "output_type": "execute_result"
    }
   ],
   "source": [
    "# Question 1.1\n",
    "\n",
    "class Polygon():\n",
    "    def __init__(self, a=0, b=0, c= 0):\n",
    "        self.a = a\n",
    "        self.b = b\n",
    "        self.c = c\n",
    "        self.s = 0\n",
    "        \n",
    "    def input_size(self):\n",
    "        a = int(input(\"Enter length of side a: \"))\n",
    "        self.a = a\n",
    "        b = int(input(\"Enter length of side b: \"))\n",
    "        self.b = b\n",
    "        c = int(input(\"Enter length of side c: \"))\n",
    "        self.c = c\n",
    "        self.s = (a+b+c)/2\n",
    "        \n",
    "class Triangle(Polygon):\n",
    "    def __init__(self):\n",
    "        super().__init__(self)\n",
    "        \n",
    "    def area(self):\n",
    "        area = (self.s*(self.s-self.a)*(self.s-self.b)*(self.s-self.c)) ** 0.5\n",
    "        return area\n",
    "    \n",
    "tr = Triangle()\n",
    "tr.input_size()\n",
    "tr.area()"
   ]
  },
  {
   "cell_type": "code",
   "execution_count": 12,
   "metadata": {},
   "outputs": [
    {
     "data": {
      "text/plain": [
       "['hello world', 'programmer', 'machine_learning']"
      ]
     },
     "execution_count": 12,
     "metadata": {},
     "output_type": "execute_result"
    }
   ],
   "source": [
    "# Question 1.2\n",
    "\n",
    "def filter_long_words(words, n):\n",
    "    for word in words:\n",
    "        if len(word)<=n:\n",
    "            words.remove(word)\n",
    "    return words\n",
    "\n",
    "words = ['hello world', 'python', 'programmer', 'machine_learning', 'data']\n",
    "filter_long_words(words, 7)"
   ]
  },
  {
   "cell_type": "code",
   "execution_count": 15,
   "metadata": {},
   "outputs": [
    {
     "data": {
      "text/plain": [
       "[2, 3, 4]"
      ]
     },
     "execution_count": 15,
     "metadata": {},
     "output_type": "execute_result"
    }
   ],
   "source": [
    "# Question 2.1\n",
    "\n",
    "def words_to_int(words):\n",
    "    return list(map(lambda x: len(x), words))\n",
    "\n",
    "ls = ['ab','cde','erty']\n",
    "words_to_int(ls)"
   ]
  },
  {
   "cell_type": "code",
   "execution_count": 17,
   "metadata": {},
   "outputs": [
    {
     "data": {
      "text/plain": [
       "True"
      ]
     },
     "execution_count": 17,
     "metadata": {},
     "output_type": "execute_result"
    }
   ],
   "source": [
    "# Question 2.2\n",
    "\n",
    "def is_vowel(char):\n",
    "    vowels = ['a','e','i','o','u']\n",
    "    if char in vowels:\n",
    "        return True\n",
    "    return False\n",
    "\n",
    "is_vowel('a')"
   ]
  },
  {
   "cell_type": "code",
   "execution_count": null,
   "metadata": {},
   "outputs": [],
   "source": []
  }
 ],
 "metadata": {
  "kernelspec": {
   "display_name": "Python 3",
   "language": "python",
   "name": "python3"
  },
  "language_info": {
   "codemirror_mode": {
    "name": "ipython",
    "version": 3
   },
   "file_extension": ".py",
   "mimetype": "text/x-python",
   "name": "python",
   "nbconvert_exporter": "python",
   "pygments_lexer": "ipython3",
   "version": "3.7.4"
  }
 },
 "nbformat": 4,
 "nbformat_minor": 2
}
