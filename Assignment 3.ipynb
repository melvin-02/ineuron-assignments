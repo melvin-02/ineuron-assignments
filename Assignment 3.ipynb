{
 "cells": [
  {
   "cell_type": "code",
   "execution_count": 1,
   "metadata": {},
   "outputs": [
    {
     "name": "stdout",
     "output_type": "stream",
     "text": [
      "Max number in list: 53\n",
      "Sum of numbers in list: 106\n"
     ]
    }
   ],
   "source": [
    "# Question 1.1\n",
    "\n",
    "def myreduce(function, sequence):\n",
    "    result = sequence[0]\n",
    "    for i in range(len(sequence)-1):\n",
    "        result = function(result,sequence[i+1])\n",
    "    return result\n",
    "\n",
    "ls = [3,2,53,5,37,6]\n",
    "print(\"Max number in list:\",myreduce(lambda x,y:x if x>y else y, ls))\n",
    "print(\"Sum of numbers in list:\",myreduce(lambda x,y:x+y, ls))"
   ]
  },
  {
   "cell_type": "code",
   "execution_count": 2,
   "metadata": {},
   "outputs": [
    {
     "name": "stdout",
     "output_type": "stream",
     "text": [
      "Number divisible by 2: 2 76 12 "
     ]
    }
   ],
   "source": [
    "# Question 1.2\n",
    "\n",
    "def myfilter(function, sequence):\n",
    "    for i in sequence:\n",
    "        if function(i):\n",
    "            yield i\n",
    "\n",
    "seq = [43,45,2,89,7,76,12]            \n",
    "iterable = myfilter(lambda x: x % 2 == 0, seq)\n",
    "\n",
    "print(\"Number divisible by 2: \", end=\"\")\n",
    "for i in iterable:\n",
    "    print(i, end=\" \")"
   ]
  },
  {
   "cell_type": "code",
   "execution_count": 3,
   "metadata": {},
   "outputs": [
    {
     "name": "stdout",
     "output_type": "stream",
     "text": [
      "['x', 'xx', 'xxx', 'xxxx', 'y', 'yy', 'yyy', 'yyyy', 'z', 'zz', 'zzz', 'zzzz']\n",
      "['x', 'y', 'z', 'xx', 'yy', 'zz', 'xxx', 'yyy', 'zzz', 'xxxx', 'yyyy', 'zzzz']\n",
      "[[2], [3], [4], [3], [4], [5], [4], [5], [6]] [[2, 3, 4, 5], [3, 4, 5, 6], [4, 5, 6, 7], [5, 6, 7, 8]]\n",
      "[(1, 1), (2, 1), (3, 1), (1, 2), (2, 2), (3, 2), (1, 3), (2, 3), (3, 3)]\n"
     ]
    }
   ],
   "source": [
    "# Question 2\n",
    "\n",
    "letters = ['x','y','z']\n",
    "print([item*count for item in letters for count in range(1,5)])\n",
    "print([item*count for count in range(1,5) for item in letters])\n",
    "print([[item] for i in range(3) for item in range(2+i,2+i+3)],[list(range(item, item+4)) for item in range(2,6) ])\n",
    "print([(row,col) for col in range(1,4) for row in range(1,4)])"
   ]
  },
  {
   "cell_type": "code",
   "execution_count": null,
   "metadata": {},
   "outputs": [],
   "source": []
  }
 ],
 "metadata": {
  "kernelspec": {
   "display_name": "Python 3",
   "language": "python",
   "name": "python3"
  },
  "language_info": {
   "codemirror_mode": {
    "name": "ipython",
    "version": 3
   },
   "file_extension": ".py",
   "mimetype": "text/x-python",
   "name": "python",
   "nbconvert_exporter": "python",
   "pygments_lexer": "ipython3",
   "version": "3.7.4"
  }
 },
 "nbformat": 4,
 "nbformat_minor": 2
}
